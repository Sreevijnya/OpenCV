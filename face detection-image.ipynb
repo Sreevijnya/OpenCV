{
 "cells": [
  {
   "cell_type": "code",
   "execution_count": 1,
   "id": "ceef826a",
   "metadata": {},
   "outputs": [],
   "source": [
    "import cv2\n",
    "import numpy as np"
   ]
  },
  {
   "cell_type": "code",
   "execution_count": 2,
   "id": "fd6e4205",
   "metadata": {},
   "outputs": [
    {
     "name": "stdout",
     "output_type": "stream",
     "text": [
      "<class 'numpy.ndarray'>\n",
      "[[91 51 50 50]]\n"
     ]
    }
   ],
   "source": [
    "cascade=cv2.CascadeClassifier(\"Documents\\\\haarcascade_frontalface_default.xml\")\n",
    "i=cv2.imread(\"face.jpg\")\n",
    "face=cascade.detectMultiScale(i,scaleFactor=1.05,minNeighbors=5)\n",
    "\n",
    "print(type(face))\n",
    "print(face)\n",
    "\n",
    "for a,b,w,h in face:\n",
    "    i=cv2.rectangle(i,(a,b),(a+w,b+h),(255,0,0),3)\n",
    "    \n",
    "cv2.imshow(\"Face\",i)\n",
    "cv2.waitKey(0)\n",
    "cv2.destroyAllWindows()"
   ]
  },
  {
   "cell_type": "code",
   "execution_count": null,
   "id": "3ee8fede",
   "metadata": {},
   "outputs": [],
   "source": []
  }
 ],
 "metadata": {
  "kernelspec": {
   "display_name": "Python 3 (ipykernel)",
   "language": "python",
   "name": "python3"
  },
  "language_info": {
   "codemirror_mode": {
    "name": "ipython",
    "version": 3
   },
   "file_extension": ".py",
   "mimetype": "text/x-python",
   "name": "python",
   "nbconvert_exporter": "python",
   "pygments_lexer": "ipython3",
   "version": "3.8.5"
  }
 },
 "nbformat": 4,
 "nbformat_minor": 5
}
